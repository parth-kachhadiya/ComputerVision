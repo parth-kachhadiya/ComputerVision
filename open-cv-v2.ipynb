{
 "cells": [
  {
   "cell_type": "code",
   "execution_count": 1,
   "id": "2fffbdcd-70d2-46c0-a84d-35c982475452",
   "metadata": {},
   "outputs": [],
   "source": [
    "import cv2\n",
    "import numpy as np"
   ]
  },
  {
   "cell_type": "code",
   "execution_count": 4,
   "id": "cb90a218-c799-4552-a8d9-a117ace63b48",
   "metadata": {},
   "outputs": [],
   "source": [
    "###########################################################################################################################################################\n",
    "##                                                                    FUNCTIONS                                                                        ##\n",
    "###########################################################################################################################################################\n",
    "\n",
    "def draw_circle(event, x, y, flags, param):\n",
    "    if event == cv2.EVENT_LBUTTONDOWN:\n",
    "        cv2.circle(img, (x, y), 100, (0, 255, 0), -1)\n",
    "\n",
    "    elif event == cv2.EVENT_RBUTTONDOWN:\n",
    "        cv2.circle(img, (x, y), 100, (0, 0 ,255), -1)\n",
    "\n",
    "cv2.namedWindow(winname = \"myDrawing\")\n",
    "cv2.setMouseCallback('myDrawing', draw_circle)\n",
    "\n",
    "###########################################################################################################################################################\n",
    "##                                                                    SHOWING IMAGES                                                                   ##\n",
    "###########################################################################################################################################################\n",
    "\n",
    "img = np.zeros((512, 512, 3), np.int8)\n",
    "\n",
    "while True:\n",
    "    cv2.imshow('myDrawing', img)\n",
    "    if cv2.waitKey(20) & 0xFF == 27:\n",
    "        break\n",
    "\n",
    "cv2.destroyAllWindows()"
   ]
  },
  {
   "cell_type": "markdown",
   "id": "e3e1fcf4-a268-4a41-b40c-95cad068d6c2",
   "metadata": {},
   "source": [
    "### **Mouse Drag Draw**"
   ]
  },
  {
   "cell_type": "code",
   "execution_count": 7,
   "id": "bfaab521-2019-43e5-8726-f37d61a70008",
   "metadata": {},
   "outputs": [],
   "source": [
    "###########################################################################################################################################################\n",
    "##                                                                    VARIABLES                                                                        ##\n",
    "###########################################################################################################################################################\n",
    "\n",
    "drawing = False\n",
    "ix, iy = -1, -1\n",
    "\n",
    "###########################################################################################################################################################\n",
    "##                                                                    FUNCTIONS                                                                        ##\n",
    "###########################################################################################################################################################\n",
    "\n",
    "def draw_circle(event, x, y, flags, param):\n",
    "    global ix, iy, drawing\n",
    "\n",
    "    if event == cv2.EVENT_LBUTTONDOWN:\n",
    "        drawing = True\n",
    "        ix, iy = x, y\n",
    "\n",
    "    elif event == cv2.EVENT_MOUSEMOVE:\n",
    "        if drawing:\n",
    "            cv2.rectangle(img, (ix, iy), (x, y), (255, 0, 0), -1)\n",
    "\n",
    "        elif event == cv2.EVENT_LBUTTONUP:\n",
    "            drawing = False\n",
    "            cv2.rectangle(img, (ix, iy), (x, y), (255, 0, 0), -1)\n",
    "            \n",
    "\n",
    "cv2.namedWindow(winname = \"myDrawing\")\n",
    "cv2.setMouseCallback('myDrawing', draw_circle)\n",
    "\n",
    "###########################################################################################################################################################\n",
    "##                                                                    SHOWING IMAGES                                                                   ##\n",
    "###########################################################################################################################################################\n",
    "\n",
    "img = np.zeros((512, 512, 3), np.int8)\n",
    "\n",
    "while True:\n",
    "    cv2.imshow('myDrawing', img)\n",
    "    if cv2.waitKey(20) & 0xFF == 27:\n",
    "        break\n",
    "\n",
    "cv2.destroyAllWindows()"
   ]
  },
  {
   "cell_type": "code",
   "execution_count": null,
   "id": "c14b18ea-83fc-451d-9dee-8f5507defcbe",
   "metadata": {},
   "outputs": [],
   "source": []
  }
 ],
 "metadata": {
  "kernelspec": {
   "display_name": "Python 3 (ipykernel)",
   "language": "python",
   "name": "python3"
  },
  "language_info": {
   "codemirror_mode": {
    "name": "ipython",
    "version": 3
   },
   "file_extension": ".py",
   "mimetype": "text/x-python",
   "name": "python",
   "nbconvert_exporter": "python",
   "pygments_lexer": "ipython3",
   "version": "3.13.3"
  }
 },
 "nbformat": 4,
 "nbformat_minor": 5
}
